{
 "cells": [
  {
   "cell_type": "code",
   "execution_count": 29,
   "id": "be7b6a7f",
   "metadata": {},
   "outputs": [],
   "source": [
    "populations = [\n",
    "    { \"id\" : 0, \"name\" : \"Alan\" },\n",
    "    { \"id\" : 1, \"name\" : \"Albert\" },\n",
    "    { \"id\" : 2, \"name\" : \"Jhon\" },\n",
    "    { \"id\" : 3, \"name\" : \"Brice\" },\n",
    "    { \"id\" : 4, \"name\" : \"Alexendra\" },\n",
    "    { \"id\" : 5, \"name\" : \"Brad\" },\n",
    "    { \"id\" : 6, \"name\" : \"Carl\" },\n",
    "    { \"id\" : 7, \"name\" : \"Dallas\" },\n",
    "    { \"id\" : 8, \"name\" : \"Dennis\" },\n",
    "    { \"id\" : 9, \"name\" : \"Edgar\" },\n",
    "    { \"id\" : 10, \"name\" : \"Erika\" },\n",
    "    { \"id\" : 11, \"name\" : \"Isaac\" },\n",
    "    { \"id\" : 12, \"name\" : \"Ian\" }\n",
    "]\n",
    "\n",
    "relationships = [\n",
    "    (0,1), (0,2), (1,2), (1,4),(2,3), (2,5),\n",
    "    (3,4), (3,7), (4,5),(4,8), (4,9), (5,7),\n",
    "    (5,9), (6,7), (6,8), (7,1), (7,8), (8,9),\n",
    "    (10,1),(10,2),(10,3),(11,12),(11,2),(11,5)\n",
    "]"
   ]
  },
  {
   "cell_type": "code",
   "execution_count": 30,
   "id": "66637da1",
   "metadata": {},
   "outputs": [
    {
     "name": "stdout",
     "output_type": "stream",
     "text": [
      "Population list: [{'id': 0, 'name': 'Alan', 'relationship': [1, 2]}, {'id': 1, 'name': 'Albert', 'relationship': [0, 2, 4, 7, 10]}, {'id': 2, 'name': 'Jhon', 'relationship': [0, 1, 3, 5, 10, 11]}, {'id': 3, 'name': 'Brice', 'relationship': [2, 4, 7, 10]}, {'id': 4, 'name': 'Alexendra', 'relationship': [1, 3, 5, 8, 9]}, {'id': 5, 'name': 'Brad', 'relationship': [2, 4, 7, 9, 11]}, {'id': 6, 'name': 'Carl', 'relationship': [7, 8]}, {'id': 7, 'name': 'Dallas', 'relationship': [3, 5, 6, 1, 8]}, {'id': 8, 'name': 'Dennis', 'relationship': [4, 6, 7, 9]}, {'id': 9, 'name': 'Edgar', 'relationship': [4, 5, 8]}, {'id': 10, 'name': 'Erika', 'relationship': [1, 2, 3]}, {'id': 11, 'name': 'Isaac', 'relationship': [12, 2, 5]}, {'id': 12, 'name': 'Ian', 'relationship': [11]}]\n"
     ]
    }
   ],
   "source": [
    "def add_relationship_in_population(populations, relationships):\n",
    "    for u in populations:\n",
    "        u['relationship'] = []\n",
    "        for relationship in relationships:\n",
    "            if u['id'] in relationship:\n",
    "                id1, id2 = relationship\n",
    "                u['relationship'].append(id2) if id1 == u['id'] else u['relationship'].append(id1)\n",
    "                \n",
    "    return populations\n",
    "\n",
    "\n",
    "users = add_relationship_in_population(populations, relationships)\n",
    "print(f\"Population list: {users}\")\n",
    "\n",
    "\n"
   ]
  },
  {
   "cell_type": "code",
   "execution_count": 31,
   "id": "6ce79d8b",
   "metadata": {},
   "outputs": [
    {
     "name": "stdout",
     "output_type": "stream",
     "text": [
      "Moyenne des 'relationship': 3.69\n"
     ]
    }
   ],
   "source": [
    "def get_average( populations, precision = 2):\n",
    "    average = 0\n",
    "    for u in populations: \n",
    "        average += (len(u['relationship']))\n",
    "    return round(average / len(populations), precision)\n",
    "\n",
    "average_relationship = get_average(users)\n",
    "print(f\"Moyenne des 'relationship': {average_relationship}\")\n"
   ]
  },
  {
   "cell_type": "code",
   "execution_count": 32,
   "id": "12cef81a",
   "metadata": {},
   "outputs": [
    {
     "name": "stdout",
     "output_type": "stream",
     "text": [
      "List trié par relations: {'id': 2, 'relationship_tot': 6}\n"
     ]
    }
   ],
   "source": [
    "def sorted_user_by_relations(users):\n",
    "    usersList = []\n",
    "    sList = sorted(users, key=lambda x: len(x['relationship']), reverse=True)\n",
    "\n",
    "    for u in sList :\n",
    "        new_users_info = {'id': u['id'], 'relationship_tot': len(u['relationship'])}\n",
    "        usersList.append(new_users_info)\n",
    "\n",
    "    return usersList\n",
    "\n",
    "sorted_user = sorted_user_by_relations(users)\n",
    "print(f\"List trié par relations: {sorted_user[0]}\")"
   ]
  },
  {
   "cell_type": "code",
   "execution_count": 33,
   "id": "5685648f",
   "metadata": {},
   "outputs": [
    {
     "name": "stdout",
     "output_type": "stream",
     "text": [
      "Amis d'amis: [{'id': 0, 'name': 'Alan', 'relationship': [1, 2], 'relationship_of_relationship': [0, 1, 2, 3, 4, 5, 7, 10, 11]}, {'id': 1, 'name': 'Albert', 'relationship': [0, 2, 4, 7, 10], 'relationship_of_relationship': [0, 1, 2, 3, 5, 6, 8, 9, 10, 11]}, {'id': 2, 'name': 'Jhon', 'relationship': [0, 1, 3, 5, 10, 11], 'relationship_of_relationship': [0, 1, 2, 3, 4, 5, 7, 9, 10, 11, 12]}, {'id': 3, 'name': 'Brice', 'relationship': [2, 4, 7, 10], 'relationship_of_relationship': [0, 1, 2, 3, 5, 6, 8, 9, 10, 11]}, {'id': 4, 'name': 'Alexendra', 'relationship': [1, 3, 5, 8, 9], 'relationship_of_relationship': [0, 2, 4, 5, 6, 7, 8, 9, 10, 11]}, {'id': 5, 'name': 'Brad', 'relationship': [2, 4, 7, 9, 11], 'relationship_of_relationship': [0, 1, 2, 3, 4, 5, 6, 8, 9, 10, 11, 12]}, {'id': 6, 'name': 'Carl', 'relationship': [7, 8], 'relationship_of_relationship': [1, 3, 4, 5, 6, 7, 8, 9]}, {'id': 7, 'name': 'Dallas', 'relationship': [3, 5, 6, 1, 8], 'relationship_of_relationship': [0, 2, 4, 6, 7, 8, 9, 10, 11]}, {'id': 8, 'name': 'Dennis', 'relationship': [4, 6, 7, 9], 'relationship_of_relationship': [1, 3, 4, 5, 6, 7, 8, 9]}, {'id': 9, 'name': 'Edgar', 'relationship': [4, 5, 8], 'relationship_of_relationship': [1, 2, 3, 4, 5, 6, 7, 8, 9, 11]}, {'id': 10, 'name': 'Erika', 'relationship': [1, 2, 3], 'relationship_of_relationship': [0, 1, 2, 3, 4, 5, 7, 10, 11]}, {'id': 11, 'name': 'Isaac', 'relationship': [12, 2, 5], 'relationship_of_relationship': [0, 1, 2, 3, 4, 5, 7, 9, 10, 11]}, {'id': 12, 'name': 'Ian', 'relationship': [11], 'relationship_of_relationship': [2, 12, 5]}]\n"
     ]
    }
   ],
   "source": [
    "def get_relationship_of_relationship(users):\n",
    "    for user in users:\n",
    "        user['relationship_of_relationship'] = []\n",
    "        foff = []\n",
    "        for relationship in user['relationship']:\n",
    "            foff.extend(list(filter(lambda t: t['id'] == relationship, users))[0]['relationship'])\n",
    "        user['relationship_of_relationship'].extend(list(set(foff)))\n",
    "         \n",
    "    return users\n",
    "            \n",
    "\n",
    "relaOfRela = get_relationship_of_relationship(users)\n",
    "print(f\"Amis d'amis: {relaOfRela}\")"
   ]
  },
  {
   "cell_type": "markdown",
   "id": "13f72c0f",
   "metadata": {},
   "source": [
    "# Partie 2 level"
   ]
  },
  {
   "cell_type": "code",
   "execution_count": 34,
   "id": "0f4d5893",
   "metadata": {},
   "outputs": [
    {
     "name": "stdout",
     "output_type": "stream",
     "text": [
      "[('Alan', 4), ('Albert', 2), ('Jhon', 3), ('Brice', 5), ('Alexendra', 7), ('Brad', 8), ('Carl', 2), ('Dallas', 6), ('Dennis', 4), ('Edgar', 3), ('Erika', 5), ('Isaac', 7), ('Ian', 5)]\n"
     ]
    }
   ],
   "source": [
    "students = [\n",
    "    \"Alan\",\n",
    "    \"Albert\",\n",
    "    \"Jhon\",\n",
    "    \"Brice\",\n",
    "    \"Alexendra\",\n",
    "    \"Brad\",\n",
    "    \"Carl\",\n",
    "    \"Dallas\",\n",
    "    \"Dennis\",\n",
    "    \"Edgar\",\n",
    "     \"Erika\",\n",
    "     \"Isaac\",\n",
    "    \"Ian\" \n",
    "]\n",
    "\n",
    "levels = [4,2,3,5,7,8,2,6,4,3,5, 7, 5]\n",
    "\n",
    "result = zip(students, levels)\n",
    "print(list(result))"
   ]
  },
  {
   "cell_type": "markdown",
   "id": "d91fe6a7",
   "metadata": {},
   "source": [
    "# Partie 3 centres d'intérêts"
   ]
  },
  {
   "cell_type": "code",
   "execution_count": 35,
   "id": "97a58cb0",
   "metadata": {},
   "outputs": [
    {
     "name": "stdout",
     "output_type": "stream",
     "text": [
      "user include interest [{'id': 0, 'name': 'Alan', 'interests': ['PHP', 'MySQL', 'Angular']}, {'id': 1, 'name': 'Albert', 'interests': ['MySQL']}, {'id': 2, 'name': 'Jhon', 'interests': ['Python']}, {'id': 3, 'name': 'Brice', 'interests': ['PHP']}, {'id': 4, 'name': 'Alexendra', 'interests': ['PHP']}, {'id': 5, 'name': 'Brad', 'interests': ['Angular']}, {'id': 6, 'name': 'Carl', 'interests': ['Vuejs']}, {'id': 7, 'name': 'Dallas', 'interests': ['Angular']}, {'id': 8, 'name': 'Dennis', 'interests': ['Big data']}, {'id': 9, 'name': 'Edgar', 'interests': ['PHP']}, {'id': 10, 'name': 'Erika', 'interests': ['Angular', 'NoSQL']}, {'id': 11, 'name': 'Isaac', 'interests': ['NoSQL']}, {'id': 13, 'name': 'Brice', 'interests': ['Angular']}, {'id': 14, 'name': 'Alice', 'interests': ['Angular']}, {'id': 15, 'name': 'Sophia', 'interests': ['Angular']}, {'id': 16, 'name': 'Rasmus', 'interests': ['Angular']}, {'id': 18, 'name': 'Taylor', 'interests': ['PHP']}, {'id': 19, 'name': 'Olivia', 'interests': ['PHP', 'Angular', 'Python']}, {'id': 20, 'name': 'Jessica', 'interests': ['Python']}, {'id': 21, 'name': 'Anna', 'interests': ['Python']}, {'id': 22, 'name': 'Samantha', 'interests': ['Python']}, {'id': 23, 'name': 'Grace', 'interests': ['Python']}, {'id': 24, 'name': 'Anna', 'interests': ['PHP']}, {'id': 25, 'name': 'Alexis', 'interests': ['NoSQL']}, {'id': 26, 'name': 'Madison', 'interests': ['NoSQL']}, {'id': 27, 'name': 'Nicole', 'interests': ['Big data']}, {'id': 28, 'name': 'Amanda', 'interests': ['NoSQL']}, {'id': 29, 'name': 'Haley', 'interests': ['Angular', 'PHP', 'Big data']}]\n",
      "user with same interest {'PHP': [{'id': 0, 'name': 'Alan', 'interests': ['PHP', 'MySQL', 'Angular']}, {'id': 3, 'name': 'Brice', 'interests': ['PHP']}, {'id': 4, 'name': 'Alexendra', 'interests': ['PHP']}, {'id': 9, 'name': 'Edgar', 'interests': ['PHP']}, {'id': 18, 'name': 'Taylor', 'interests': ['PHP']}, {'id': 19, 'name': 'Olivia', 'interests': ['PHP', 'Angular', 'Python']}, {'id': 24, 'name': 'Anna', 'interests': ['PHP']}, {'id': 29, 'name': 'Haley', 'interests': ['Angular', 'PHP', 'Big data']}], 'MySQL': [{'id': 0, 'name': 'Alan', 'interests': ['PHP', 'MySQL', 'Angular']}, {'id': 1, 'name': 'Albert', 'interests': ['MySQL']}], 'Angular': [{'id': 0, 'name': 'Alan', 'interests': ['PHP', 'MySQL', 'Angular']}, {'id': 5, 'name': 'Brad', 'interests': ['Angular']}, {'id': 7, 'name': 'Dallas', 'interests': ['Angular']}, {'id': 10, 'name': 'Erika', 'interests': ['Angular', 'NoSQL']}, {'id': 13, 'name': 'Brice', 'interests': ['Angular']}, {'id': 14, 'name': 'Alice', 'interests': ['Angular']}, {'id': 15, 'name': 'Sophia', 'interests': ['Angular']}, {'id': 16, 'name': 'Rasmus', 'interests': ['Angular']}, {'id': 19, 'name': 'Olivia', 'interests': ['PHP', 'Angular', 'Python']}, {'id': 29, 'name': 'Haley', 'interests': ['Angular', 'PHP', 'Big data']}], 'Python': [{'id': 2, 'name': 'Jhon', 'interests': ['Python']}, {'id': 19, 'name': 'Olivia', 'interests': ['PHP', 'Angular', 'Python']}, {'id': 20, 'name': 'Jessica', 'interests': ['Python']}, {'id': 21, 'name': 'Anna', 'interests': ['Python']}, {'id': 22, 'name': 'Samantha', 'interests': ['Python']}, {'id': 23, 'name': 'Grace', 'interests': ['Python']}], 'Vuejs': [{'id': 6, 'name': 'Carl', 'interests': ['Vuejs']}], 'Big data': [{'id': 8, 'name': 'Dennis', 'interests': ['Big data']}, {'id': 27, 'name': 'Nicole', 'interests': ['Big data']}, {'id': 29, 'name': 'Haley', 'interests': ['Angular', 'PHP', 'Big data']}], 'NoSQL': [{'id': 10, 'name': 'Erika', 'interests': ['Angular', 'NoSQL']}, {'id': 11, 'name': 'Isaac', 'interests': ['NoSQL']}, {'id': 25, 'name': 'Alexis', 'interests': ['NoSQL']}, {'id': 26, 'name': 'Madison', 'interests': ['NoSQL']}, {'id': 28, 'name': 'Amanda', 'interests': ['NoSQL']}]}\n"
     ]
    }
   ],
   "source": [
    "populations = [\n",
    "    { \"id\" : 0, \"name\" : \"Alan\" },\n",
    "    { \"id\" : 1, \"name\" : \"Albert\" },\n",
    "    { \"id\" : 2, \"name\" : \"Jhon\" },\n",
    "    { \"id\" : 3, \"name\" : \"Brice\" },\n",
    "    { \"id\" : 4, \"name\" : \"Alexendra\" },\n",
    "    { \"id\" : 5, \"name\" : \"Brad\" },\n",
    "    { \"id\" : 6, \"name\" : \"Carl\" },\n",
    "    { \"id\" : 7, \"name\" : \"Dallas\" },\n",
    "    { \"id\" : 8, \"name\" : \"Dennis\" },\n",
    "    { \"id\" : 9, \"name\" : \"Edgar\" },\n",
    "    { \"id\" : 10, \"name\" : \"Erika\" },\n",
    "    { \"id\" : 11, \"name\" : \"Isaac\" },\n",
    "    { \"id\" : 13, \"name\" : \"Brice\" },\n",
    "    { \"id\" : 14, \"name\" : \"Alice\" },\n",
    "    { \"id\" : 15, \"name\" : \"Sophia\" },\n",
    "    { \"id\" : 16, \"name\" : \"Rasmus\" },\n",
    "    { \"id\" : 18, \"name\" : \"Taylor\" },\n",
    "    { \"id\" : 19, \"name\" : \"Olivia\" },\n",
    "    { \"id\" : 20, \"name\" : \"Jessica\" },\n",
    "    { \"id\" : 21, \"name\" : \"Anna\" },\n",
    "    { \"id\" : 22, \"name\" : \"Samantha\" },\n",
    "    { \"id\" : 23, \"name\" : \"Grace\" },\n",
    "    { \"id\" : 24, \"name\" : \"Anna\" },\n",
    "    { \"id\" : 25, \"name\" : \"Alexis\" },\n",
    "    { \"id\" : 26, \"name\" : \"Madison\" },\n",
    "    { \"id\" : 27, \"name\" : \"Nicole\" },\n",
    "    { \"id\" : 28, \"name\" : \"Amanda\" },\n",
    "    { \"id\" : 29, \"name\" : \"Haley\" }  \n",
    "]\n",
    "\n",
    "centers = [\n",
    "    (0, 'PHP'), (0, 'MySQL'), (0, 'Angular'), (1, 'MySQL'), (2, 'Python'), (3, 'PHP'), (4, 'PHP'), \n",
    "    (5, 'Angular'), (6, 'Vuejs'), (7, 'Angular'), (8, 'Big data'), (9, 'PHP'), \n",
    "    (10, 'Angular'), (10, 'NoSQL'), (11, 'NoSQL'), (12, 'Angular'), (13, 'Angular'), (14, 'Angular'), \n",
    "    (15, 'Angular'), (16, 'Angular'), (17, 'PHP'), (18, 'PHP'), (19, 'PHP'), (19,'Angular'), (19, 'Python'),\n",
    "    (20, 'Python'), (21, 'Python'), (22, 'Python'), (23, 'Python'), (24, 'PHP'), \n",
    "    (25, 'NoSQL'), (26, 'NoSQL'), (27, 'Big data'), (28, 'NoSQL'), (29, 'Angular'), (29, 'PHP'), (29,'Big data')\n",
    "]\n",
    "\n",
    "\n",
    "def get_same_interest():\n",
    "    users_with_interests = []\n",
    "    users_by_interest = {}\n",
    "\n",
    "    user_interests = {}\n",
    "    for user_id, interest in centers:\n",
    "        if user_id not in user_interests:\n",
    "            user_interests[user_id] = []\n",
    "        user_interests[user_id].append(interest)\n",
    "\n",
    "    for user in populations:\n",
    "        user_id = user['id']\n",
    "        if user_id in user_interests:\n",
    "            user['interests'] = user_interests[user_id]\n",
    "        else:\n",
    "            user['interests'] = []\n",
    "\n",
    "        users_with_interests.append(user)\n",
    "\n",
    "        for interest in user['interests']:\n",
    "            if interest not in users_by_interest:\n",
    "                users_by_interest[interest] = []\n",
    "            users_by_interest[interest].append(user)\n",
    "\n",
    "    return users_with_interests, users_by_interest\n",
    "\n",
    "user_with_interest, user_with_same_interest = get_same_interest()\n",
    "\n",
    "print(f\"user include interest {user_with_interest}\")\n",
    "print(f\"user with same interest {user_with_same_interest}\")"
   ]
  },
  {
   "cell_type": "markdown",
   "id": "c5b18a57",
   "metadata": {},
   "source": [
    "# Partie 4 Modélisation"
   ]
  },
  {
   "cell_type": "code",
   "execution_count": 36,
   "id": "3f7aa1e9",
   "metadata": {},
   "outputs": [
    {
     "name": "stdout",
     "output_type": "stream",
     "text": [
      "population: {'id': 0, 'name': 'Alan', 'interest': None, 'level': None, 'relationship': None}\n",
      "population: {'id': 1, 'name': 'Albert', 'interest': None, 'level': None, 'relationship': None}\n",
      "population: {'id': 2, 'name': 'Jhon', 'interest': None, 'level': None, 'relationship': None}\n",
      "population: {'id': 3, 'name': 'Brice', 'interest': None, 'level': None, 'relationship': None}\n",
      "population: {'id': 4, 'name': 'Alexendra', 'interest': None, 'level': None, 'relationship': None}\n",
      "population: {'id': 5, 'name': 'Brad', 'interest': None, 'level': None, 'relationship': None}\n",
      "population: {'id': 6, 'name': 'Carl', 'interest': None, 'level': None, 'relationship': None}\n",
      "population: {'id': 7, 'name': 'Dallas', 'interest': None, 'level': None, 'relationship': None}\n",
      "population: {'id': 8, 'name': 'Dennis', 'interest': None, 'level': None, 'relationship': None}\n",
      "population: {'id': 9, 'name': 'Edgar', 'interest': None, 'level': None, 'relationship': None}\n",
      "population: {'id': 10, 'name': 'Erika', 'interest': None, 'level': None, 'relationship': None}\n",
      "population: {'id': 11, 'name': 'Isaac', 'interest': None, 'level': None, 'relationship': None}\n",
      "population: {'id': 12, 'name': 'Ian', 'interest': None, 'level': None, 'relationship': None}\n",
      "student: {'id': None, 'name': 'Alan', 'interest': None, 'level': None, 'relationship': None}\n",
      "student: {'id': None, 'name': 'Albert', 'interest': None, 'level': None, 'relationship': None}\n",
      "student: {'id': None, 'name': 'Jhon', 'interest': None, 'level': None, 'relationship': None}\n",
      "student: {'id': None, 'name': 'Brice', 'interest': None, 'level': None, 'relationship': None}\n",
      "student: {'id': None, 'name': 'Alexendra', 'interest': None, 'level': None, 'relationship': None}\n",
      "student: {'id': None, 'name': 'Brad', 'interest': None, 'level': None, 'relationship': None}\n",
      "student: {'id': None, 'name': 'Carl', 'interest': None, 'level': None, 'relationship': None}\n",
      "student: {'id': None, 'name': 'Dallas', 'interest': None, 'level': None, 'relationship': None}\n",
      "student: {'id': None, 'name': 'Dennis', 'interest': None, 'level': None, 'relationship': None}\n",
      "student: {'id': None, 'name': 'Edgar', 'interest': None, 'level': None, 'relationship': None}\n",
      "student: {'id': None, 'name': 'Erika', 'interest': None, 'level': None, 'relationship': None}\n",
      "student: {'id': None, 'name': 'Isaac', 'interest': None, 'level': None, 'relationship': None}\n",
      "student: {'id': None, 'name': 'Ian', 'interest': None, 'level': None, 'relationship': None}\n"
     ]
    }
   ],
   "source": [
    "import typing\n",
    "\n",
    "populations = [\n",
    "    { \"id\" : 0, \"name\" : \"Alan\" },\n",
    "    { \"id\" : 1, \"name\" : \"Albert\" },\n",
    "    { \"id\" : 2, \"name\" : \"Jhon\" },\n",
    "    { \"id\" : 3, \"name\" : \"Brice\" },\n",
    "    { \"id\" : 4, \"name\" : \"Alexendra\" },\n",
    "    { \"id\" : 5, \"name\" : \"Brad\" },\n",
    "    { \"id\" : 6, \"name\" : \"Carl\" },\n",
    "    { \"id\" : 7, \"name\" : \"Dallas\" },\n",
    "    { \"id\" : 8, \"name\" : \"Dennis\" },\n",
    "    { \"id\" : 9, \"name\" : \"Edgar\" },\n",
    "    { \"id\" : 10, \"name\" : \"Erika\" },\n",
    "    { \"id\" : 11, \"name\" : \"Isaac\" },\n",
    "    { \"id\" : 12, \"name\" : \"Ian\" }\n",
    "]\n",
    "\n",
    "students = [\n",
    "    \"Alan\",\n",
    "    \"Albert\",\n",
    "    \"Jhon\",\n",
    "    \"Brice\",\n",
    "    \"Alexendra\",\n",
    "    \"Brad\",\n",
    "    \"Carl\",\n",
    "    \"Dallas\",\n",
    "    \"Dennis\",\n",
    "    \"Edgar\",\n",
    "     \"Erika\",\n",
    "     \"Isaac\",\n",
    "    \"Ian\" \n",
    "]\n",
    "\n",
    "class User: \n",
    "    def __init__(self, id : int = None, name: str = None, interest:str =None, level: int=None, relationship: list[int]= None):\n",
    "        self.id = id if id != '' else None\n",
    "        self.name = name\n",
    "        self.interest = interest\n",
    "        self.level = level\n",
    "        self.relationship = relationship\n",
    "    \n",
    "    def get_user(self) :\n",
    "        return {'id': self.id, 'name': self.name, 'interest': self.interest, 'level': self.level, 'relationship': self.relationship }\n",
    "\n",
    "for population in populations:\n",
    "    user = User(**population).get_user()\n",
    "    print(f\"population: {user}\")\n",
    "\n",
    "for student in students:\n",
    "    user = User(_, student).get_user()\n",
    "    print(f\"student: {user}\")"
   ]
  },
  {
   "cell_type": "markdown",
   "id": "f4c341fd",
   "metadata": {},
   "source": [
    "# Partie 5 exercices"
   ]
  },
  {
   "cell_type": "code",
   "execution_count": 37,
   "id": "16034b9c",
   "metadata": {},
   "outputs": [
    {
     "name": "stdout",
     "output_type": "stream",
     "text": [
      "8790 8987 7777 9007\n"
     ]
    }
   ],
   "source": [
    "class Parser:\n",
    "    def __init__(self, delimiter, input_string):\n",
    "        self.delimiter = delimiter\n",
    "        self.input_string = input_string\n",
    "\n",
    "    def parse_numbers(self):\n",
    "        tokens = self.input_string.split(self.delimiter)\n",
    "        numeric_values = [token.strip() for token in tokens if token.strip().isdigit()]\n",
    "        return numeric_values\n",
    "\n",
    "    def __str__(self):\n",
    "        return ' '.join(self.parse_numbers())\n",
    "\n",
    "phrase = '8790: bonjour le monde:8987:7777:Hello World:    9007'\n",
    "p = Parser(':', phrase)\n",
    "print(p)"
   ]
  },
  {
   "cell_type": "code",
   "execution_count": 38,
   "id": "33b613e8",
   "metadata": {},
   "outputs": [
    {
     "name": "stdout",
     "output_type": "stream",
     "text": [
      "{'Le': 1, 'Python': 1, 'BSD6': 1, 'Windows': 1, 'Unix': 1, 'GNU/Linux': 1, 'Android,': 1, 'Java': 1, 'Il': 1}\n"
     ]
    }
   ],
   "source": [
    "class HasCap:\n",
    "    def __init__(self, input_string: str = None):\n",
    "        self.input_string = input_string\n",
    "    def parse(self):\n",
    "        cap_word = {}\n",
    "        for word in self.input_string.split(' ') :\n",
    "            if word[0].isupper():\n",
    "               cap_word[word] = cap_word.get(word, 0) + 1\n",
    "            \n",
    "        return cap_word\n",
    "\n",
    "        \n",
    "\n",
    "\n",
    "phrase = \"Le langage Python est placé sous une licence libre proche de la licence BSD6 et fonctionne sur la plupart des plates-formes informatiques, des smartphones aux ordinateurs centraux7, de Windows à Unix avec notamment GNU/Linux en passant par macOS, ou encore Android, iOS, et peut aussi être traduit en Java ou .NET. Il est conçu pour optimiser la productivité des programmeurs en offrant des outils de haut niveau et une syntaxe simple à utiliser.\"\n",
    "\n",
    "hasCap = HasCap(phrase)\n",
    "\n",
    "print(hasCap.parse())"
   ]
  }
 ],
 "metadata": {
  "kernelspec": {
   "display_name": "Python 3 (ipykernel)",
   "language": "python",
   "name": "python3"
  },
  "language_info": {
   "codemirror_mode": {
    "name": "ipython",
    "version": 3
   },
   "file_extension": ".py",
   "mimetype": "text/x-python",
   "name": "python",
   "nbconvert_exporter": "python",
   "pygments_lexer": "ipython3",
   "version": "3.11.5"
  }
 },
 "nbformat": 4,
 "nbformat_minor": 5
}
